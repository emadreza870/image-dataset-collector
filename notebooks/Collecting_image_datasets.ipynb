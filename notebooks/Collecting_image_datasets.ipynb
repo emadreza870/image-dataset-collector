{
 "cells": [
  {
   "cell_type": "markdown",
   "id": "352b9f21",
   "metadata": {},
   "source": [
    "\n",
    "# Collecting Image Datasets (Clean & English Version)\n",
    "\n",
    "This notebook helps you **collect image datasets** using the `bing-image-downloader`, **zip the dataset**, and (optionally) **save it to Google Drive** when running on Google Colab.\n",
    "\n",
    "> **How to use this notebook**\n",
    "> 1. Run the setup cell to install dependencies.\n",
    "> 2. Set your parameters (dataset name, search queries, number of images).\n",
    "> 3. Download the images.\n",
    "> 4. Zip the dataset folder.\n",
    "> 5. (Optional, Colab) Mount Google Drive and copy the ZIP file there.\n"
   ]
  },
  {
   "cell_type": "markdown",
   "id": "944ba561",
   "metadata": {},
   "source": [
    "\n",
    "## 1) Setup — Install Dependencies\n",
    "\n",
    "This cell installs the required Python package.  \n",
    "- If you're using **Google Colab**, it works out of the box.  \n",
    "- If you're using **local Jupyter**, make sure you have internet access enabled to install packages.\n",
    "\n",
    "After installation completes successfully, you may need to **restart the kernel** in some environments.\n"
   ]
  },
  {
   "cell_type": "code",
   "execution_count": null,
   "id": "7daf082e",
   "metadata": {},
   "outputs": [],
   "source": [
    "# Install the image downloader package\n",
    "!pip install -q bing-image-downloader"
   ]
  },
  {
   "cell_type": "markdown",
   "id": "8f0b595f",
   "metadata": {},
   "source": [
    "\n",
    "## 2) Configure Your Dataset Parameters\n",
    "\n",
    "Customize the values below:\n",
    "- **dataset_name**: A folder/zip name for your dataset (letters, numbers, underscores).\n",
    "- **queries**: A list of search terms to collect images for (e.g., different classes).\n",
    "- **limit_per_query**: Maximum number of images to download for each search term.\n",
    "- **base_output_dir**: Where to store downloaded images (default is current working directory).  \n",
    "  - On **Colab**, you may prefer `/content` to store files on the VM.\n",
    "- **adult_filter_off**: Set to `True` to allow all results, `False` to filter adult content.\n",
    "- **force_replace**: If `True`, it will overwrite any existing folder for a query.\n"
   ]
  },
  {
   "cell_type": "code",
   "execution_count": null,
   "id": "ee04dfc8",
   "metadata": {},
   "outputs": [],
   "source": [
    "# ==== USER SETTINGS ==================================================\n",
    "from pathlib import Path\n",
    "\n",
    "dataset_name = \"spice_dataset\"          # Folder/ZIP base name for your dataset\n",
    "queries = [\n",
    "    \"Cuminum cyminum\",   # cumin\n",
    "    \"Lavandula\",         # lavender\n",
    "]\n",
    "limit_per_query = 200      # images per query\n",
    "base_output_dir = \".\"      # use \"/content\" on Colab for convenience\n",
    "adult_filter_off = True    # set False to filter adult content\n",
    "force_replace = False      # overwrite existing query folders if True\n",
    "\n",
    "# ---- Derived paths ----\n",
    "BASE_DIR = Path(base_output_dir).resolve()\n",
    "DATASET_DIR = BASE_DIR / dataset_name\n",
    "DATASET_DIR.mkdir(parents=True, exist_ok=True)\n",
    "\n",
    "print(f\"Dataset directory: {DATASET_DIR}\")\n",
    "print(f\"Queries: {queries}\")\n"
   ]
  },
  {
   "cell_type": "markdown",
   "id": "2effb30d",
   "metadata": {},
   "source": [
    "\n",
    "## 3) Download Images with Bing Image Downloader\n",
    "\n",
    "What this cell does:\n",
    "- Creates (or reuses) a subfolder for each **query** inside your dataset folder.\n",
    "- Downloads up to **`limit_per_query`** images per query.\n",
    "- Skips existing folders unless `force_replace=True`.\n",
    "\n",
    "**Tips**\n",
    "- Try **specific queries** (e.g., *\"Lavandula flower close-up\"*).\n",
    "- Review downloaded images for quality and remove irrelevant ones.\n",
    "- Respect **copyright** and **usage rights** of images.\n"
   ]
  },
  {
   "cell_type": "code",
   "execution_count": null,
   "id": "1e03b29c",
   "metadata": {},
   "outputs": [],
   "source": [
    "from bing_image_downloader import downloader\n",
    "from pathlib import Path\n",
    "\n",
    "summary = []\n",
    "\n",
    "for q in queries:\n",
    "    print(f\"\\n=== Downloading: {q} ===\")\n",
    "    try:\n",
    "        downloader.download(\n",
    "            query=q,\n",
    "            limit=limit_per_query,\n",
    "            output_dir=DATASET_DIR.as_posix(),\n",
    "            adult_filter_off=adult_filter_off,\n",
    "            force_replace=force_replace,\n",
    "            timeout=60,\n",
    "            verbose=True,\n",
    "        )\n",
    "        summary.append((q, \"OK\"))\n",
    "    except Exception as e:\n",
    "        print(f\"[WARN] Failed for {q}: {e}\")\n",
    "        summary.append((q, f\"ERROR: {e}\"))\n",
    "\n",
    "print(\"\\nSummary:\")\n",
    "for q, status in summary:\n",
    "    print(f\"- {q}: {status}\")\n"
   ]
  },
  {
   "cell_type": "markdown",
   "id": "78986ba2",
   "metadata": {},
   "source": [
    "\n",
    "## 4) Zip Your Dataset Folder\n",
    "\n",
    "This cell compresses the **entire dataset directory** (which contains subfolders for each query) into a single ZIP file.  \n",
    "- The ZIP will be created **next to** the dataset directory by default.\n",
    "- If a ZIP already exists with the same name, it will be **overwritten**.\n"
   ]
  },
  {
   "cell_type": "code",
   "execution_count": null,
   "id": "42ac5cef",
   "metadata": {},
   "outputs": [],
   "source": [
    "import shutil\n",
    "from pathlib import Path\n",
    "\n",
    "zip_base = DATASET_DIR.as_posix()\n",
    "zip_path = f\"{zip_base}.zip\"\n",
    "\n",
    "# Remove existing zip if present to avoid appending\n",
    "p = Path(zip_path)\n",
    "if p.exists():\n",
    "    p.unlink()\n",
    "\n",
    "# Create the zip archive\n",
    "archive_path = shutil.make_archive(base_name=zip_base, format='zip', root_dir=DATASET_DIR)\n",
    "print(f\"Created ZIP: {archive_path}\")\n"
   ]
  },
  {
   "cell_type": "markdown",
   "id": "bcde04c2",
   "metadata": {},
   "source": [
    "\n",
    "## 5) (Optional) Save to Google Drive (Colab)\n",
    "\n",
    "If you're running on **Google Colab**, you can mount Google Drive and copy the generated ZIP file there:\n",
    "- The ZIP file path is printed in the previous cell (e.g., `/content/spice_dataset.zip` on Colab).\n",
    "- Update `dest_dir` below if you want a custom folder inside your Drive.\n"
   ]
  },
  {
   "cell_type": "code",
   "execution_count": null,
   "id": "b3f6c72e",
   "metadata": {},
   "outputs": [],
   "source": [
    "import sys, shutil\n",
    "from pathlib import Path\n",
    "\n",
    "# Detect Colab environment\n",
    "IN_COLAB = 'google.colab' in sys.modules\n",
    "print(f\"Running in Colab: {IN_COLAB}\")\n",
    "\n",
    "if IN_COLAB:\n",
    "    from google.colab import drive\n",
    "    drive.mount('/content/drive')\n",
    "\n",
    "    src_zip = Path(f\"{DATASET_DIR}.zip\")\n",
    "    dest_dir = Path('/content/drive/MyDrive') / 'datasets'\n",
    "    dest_dir.mkdir(parents=True, exist_ok=True)\n",
    "    dest_zip = dest_dir / src_zip.name\n",
    "\n",
    "    shutil.copy(src_zip, dest_zip)\n",
    "    print(f\"Copied to Drive: {dest_zip}\")\n",
    "else:\n",
    "    print(\"Not running on Colab. Skipping Drive copy step.\")\n"
   ]
  },
  {
   "cell_type": "markdown",
   "id": "5824a60f",
   "metadata": {},
   "source": [
    "\n",
    "## 6) Next Steps & Notes\n",
    "\n",
    "- Review images and remove **duplicates**, **corrupted**, or **irrelevant** files.\n",
    "- Consider normalizing file names and ensuring **class labels** match folder names.\n",
    "- For training ML models, consider creating `train/`, `val/`, `test/` subfolders.\n",
    "- Always check the **licensing** of images and follow fair-use and attribution rules where applicable.\n",
    "\n",
    "**Provenance**: This English, cleaned notebook was generated from a Persian notebook and includes clearer structure and instructions for each step.  \n",
    "_Last updated: 2025-09-05 10:46 UTC_\n"
   ]
  }
 ],
 "metadata": {},
 "nbformat": 4,
 "nbformat_minor": 5
}
